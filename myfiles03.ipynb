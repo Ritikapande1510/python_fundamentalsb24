{
 "cells": [
  {
   "cell_type": "code",
   "execution_count": 1,
   "metadata": {},
   "outputs": [],
   "source": [
    "#conditional steps\n",
    "#one way control flow statements..where we know what to do only when the situation is true.\n",
    "#1. normal if statement"
   ]
  },
  {
   "cell_type": "code",
   "execution_count": 3,
   "metadata": {},
   "outputs": [
    {
     "name": "stdout",
     "output_type": "stream",
     "text": [
      "smaller\n",
      "finished\n"
     ]
    }
   ],
   "source": [
    "x=5\n",
    "if x<10:\n",
    "    print('smaller')\n",
    "if x>20:\n",
    "    print('bigger')\n",
    "print('finished')\n"
   ]
  },
  {
   "cell_type": "code",
   "execution_count": 4,
   "metadata": {},
   "outputs": [],
   "source": [
    "#indentation is very very important.if you want a statement to be a part of if you need to indent\n",
    "#if you want to get out of if and want a statement to be a part of normal sequence then dedindent"
   ]
  },
  {
   "cell_type": "code",
   "execution_count": 6,
   "metadata": {},
   "outputs": [],
   "source": [
    "#2.Nested decisions(if inside if)\n"
   ]
  },
  {
   "cell_type": "code",
   "execution_count": 7,
   "metadata": {},
   "outputs": [
    {
     "name": "stdout",
     "output_type": "stream",
     "text": [
      "more than one\n",
      "but less than hundred\n",
      "all done..!\n"
     ]
    }
   ],
   "source": [
    "x = 50\n",
    "if x>1 :\n",
    "    print('more than one')\n",
    "    if x<100 :\n",
    "        print('but less than hundred')\n",
    "print('all done..!')"
   ]
  },
  {
   "cell_type": "code",
   "execution_count": 9,
   "metadata": {},
   "outputs": [],
   "source": [
    "#3. two way decisions...where we want to do something when a logical expression is true and something else when it is false.\n",
    "#for a single condition"
   ]
  },
  {
   "cell_type": "code",
   "execution_count": 10,
   "metadata": {},
   "outputs": [
    {
     "name": "stdout",
     "output_type": "stream",
     "text": [
      "bigger\n",
      "done\n"
     ]
    }
   ],
   "source": [
    "x = 6\n",
    "if x>3 :\n",
    "    print('bigger')\n",
    "else :\n",
    "    print('smaller')\n",
    "print('done')\n",
    " "
   ]
  },
  {
   "cell_type": "code",
   "execution_count": 11,
   "metadata": {},
   "outputs": [],
   "source": [
    "#4.Multiway decisions...!"
   ]
  },
  {
   "cell_type": "code",
   "execution_count": 12,
   "metadata": {},
   "outputs": [
    {
     "name": "stdout",
     "output_type": "stream",
     "text": [
      "LARGE\n"
     ]
    }
   ],
   "source": [
    "x = 60\n",
    "if x<10:\n",
    "    print('small')\n",
    "elif x<20:\n",
    "    print('medium')\n",
    "else:\n",
    "    print('LARGE')"
   ]
  },
  {
   "cell_type": "code",
   "execution_count": 13,
   "metadata": {},
   "outputs": [],
   "source": [
    "#SO EITHER ONE OF THE ABOVE CONDITION IS EXECUTED.Remember that else block is not always compulsory if we kmow that any one \n",
    "#of the multiway condition is going to be true."
   ]
  },
  {
   "cell_type": "code",
   "execution_count": 14,
   "metadata": {},
   "outputs": [],
   "source": [
    "#5. Try and except structures..!\n",
    "#if try fails to execute the program jumps to except and vica versa"
   ]
  },
  {
   "cell_type": "code",
   "execution_count": 15,
   "metadata": {},
   "outputs": [
    {
     "name": "stdout",
     "output_type": "stream",
     "text": [
      "first 1\n"
     ]
    }
   ],
   "source": [
    "astr = 'hallo leute'\n",
    "try:\n",
    "    istr = int(astr)\n",
    "except:\n",
    "    istr = 1\n",
    "    print('first',istr)"
   ]
  },
  {
   "cell_type": "code",
   "execution_count": 16,
   "metadata": {},
   "outputs": [
    {
     "name": "stdout",
     "output_type": "stream",
     "text": [
      "125\n"
     ]
    }
   ],
   "source": [
    "x = '125'\n",
    "try:\n",
    "    y = int(x)\n",
    "    print(y)\n",
    "except:\n",
    "    y = -1\n",
    "    print(y)\n",
    "    \n"
   ]
  },
  {
   "cell_type": "code",
   "execution_count": null,
   "metadata": {},
   "outputs": [],
   "source": []
  },
  {
   "cell_type": "code",
   "execution_count": null,
   "metadata": {},
   "outputs": [],
   "source": []
  },
  {
   "cell_type": "code",
   "execution_count": null,
   "metadata": {},
   "outputs": [],
   "source": []
  }
 ],
 "metadata": {
  "kernelspec": {
   "display_name": "Python 3",
   "language": "python",
   "name": "python3"
  },
  "language_info": {
   "codemirror_mode": {
    "name": "ipython",
    "version": 3
   },
   "file_extension": ".py",
   "mimetype": "text/x-python",
   "name": "python",
   "nbconvert_exporter": "python",
   "pygments_lexer": "ipython3",
   "version": "3.7.6"
  }
 },
 "nbformat": 4,
 "nbformat_minor": 4
}
