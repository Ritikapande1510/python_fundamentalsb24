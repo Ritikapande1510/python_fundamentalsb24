{
 "cells": [
  {
   "cell_type": "code",
   "execution_count": 1,
   "metadata": {},
   "outputs": [],
   "source": [
    "#intro to loops"
   ]
  },
  {
   "cell_type": "code",
   "execution_count": 3,
   "metadata": {},
   "outputs": [],
   "source": [
    "my_students = ['nikita','kiran','meenakshi','anant','aparna']"
   ]
  },
  {
   "cell_type": "code",
   "execution_count": 4,
   "metadata": {},
   "outputs": [
    {
     "name": "stdout",
     "output_type": "stream",
     "text": [
      "['nikita', 'kiran', 'meenakshi', 'anant', 'aparna']\n"
     ]
    }
   ],
   "source": [
    "print(my_students)"
   ]
  },
  {
   "cell_type": "code",
   "execution_count": 5,
   "metadata": {},
   "outputs": [
    {
     "data": {
      "text/plain": [
       "list"
      ]
     },
     "execution_count": 5,
     "metadata": {},
     "output_type": "execute_result"
    }
   ],
   "source": [
    "type(my_students)"
   ]
  },
  {
   "cell_type": "code",
   "execution_count": 6,
   "metadata": {},
   "outputs": [],
   "source": [
    "#req is to appreciate all students"
   ]
  },
  {
   "cell_type": "code",
   "execution_count": 8,
   "metadata": {},
   "outputs": [
    {
     "name": "stdout",
     "output_type": "stream",
     "text": [
      "keep up the good work,nikita\n"
     ]
    }
   ],
   "source": [
    "print(f\"keep up the good work,{my_students[0]}\")"
   ]
  },
  {
   "cell_type": "code",
   "execution_count": 10,
   "metadata": {},
   "outputs": [
    {
     "name": "stdout",
     "output_type": "stream",
     "text": [
      "keep up the good work,kiran\n"
     ]
    }
   ],
   "source": [
    "print(f\"keep up the good work,{my_students[1]}\")"
   ]
  },
  {
   "cell_type": "code",
   "execution_count": 11,
   "metadata": {},
   "outputs": [
    {
     "name": "stdout",
     "output_type": "stream",
     "text": [
      "keep up the good work,meenakshi\n"
     ]
    }
   ],
   "source": [
    "print(f\"keep up the good work,{my_students[2]}\")"
   ]
  },
  {
   "cell_type": "code",
   "execution_count": 12,
   "metadata": {},
   "outputs": [],
   "source": [
    "#we can see thet if we wnt to appreciate all we have to individually write a lot of print()statements\n",
    "#to avoid such a manual situation we will use loops to minimise the efforts"
   ]
  },
  {
   "cell_type": "code",
   "execution_count": 13,
   "metadata": {},
   "outputs": [],
   "source": [
    "#implementation of a for loop"
   ]
  },
  {
   "cell_type": "code",
   "execution_count": 15,
   "metadata": {},
   "outputs": [
    {
     "name": "stdout",
     "output_type": "stream",
     "text": [
      "keep up the good worl,nikita\n",
      "keep up the good worl,kiran\n",
      "keep up the good worl,meenakshi\n",
      "keep up the good worl,anant\n",
      "keep up the good worl,aparna\n"
     ]
    }
   ],
   "source": [
    "for student in my_students:\n",
    "    print(f\"keep up the good worl,{student}\")"
   ]
  },
  {
   "cell_type": "code",
   "execution_count": null,
   "metadata": {},
   "outputs": [],
   "source": [
    "so general syntax of for loop is\n",
    "for tempvar in mainvar:\n",
    "    print(tempvar) #indentation is must here\n",
    "#main variable is created outside the for loop and tempvar is created inside it"
   ]
  },
  {
   "cell_type": "code",
   "execution_count": 17,
   "metadata": {},
   "outputs": [
    {
     "name": "stdout",
     "output_type": "stream",
     "text": [
      "keep up the good work,nikita\n",
      "keep up the good work,kiran\n",
      "keep up the good work,meenakshi\n",
      "keep up the good work,anant\n",
      "keep up the good work,aparna\n"
     ]
    }
   ],
   "source": [
    "for x in my_students:\n",
    "    print(f\"keep up the good work,{x}\")"
   ]
  },
  {
   "cell_type": "code",
   "execution_count": 20,
   "metadata": {},
   "outputs": [
    {
     "name": "stdout",
     "output_type": "stream",
     "text": [
      "nikita\n",
      "kiran\n",
      "meenakshi\n",
      "anant\n",
      "aparna\n"
     ]
    }
   ],
   "source": [
    "for batman in my_students:\n",
    "    print(batman)"
   ]
  },
  {
   "cell_type": "code",
   "execution_count": 21,
   "metadata": {},
   "outputs": [
    {
     "name": "stdout",
     "output_type": "stream",
     "text": [
      "hello,nikita\n",
      "hello,kiran\n",
      "hello,meenakshi\n",
      "hello,anant\n",
      "hello,aparna\n"
     ]
    }
   ],
   "source": [
    "for batman in my_students:\n",
    "    print(f\"hello,{batman}\")"
   ]
  },
  {
   "cell_type": "code",
   "execution_count": 29,
   "metadata": {},
   "outputs": [
    {
     "name": "stdout",
     "output_type": "stream",
     "text": [
      "keep up the good work nikita\n",
      "submit the work on time \n",
      "keep up the good work kiran\n",
      "submit the work on time \n",
      "keep up the good work meenakshi\n",
      "submit the work on time \n",
      "keep up the good work anant\n",
      "submit the work on time \n",
      "keep up the good work aparna\n",
      "submit the work on time \n"
     ]
    }
   ],
   "source": [
    "for y in my_students:\n",
    "    print(f\"keep up the good work {y}\")\n",
    "    print(f\"submit the work on time \")"
   ]
  },
  {
   "cell_type": "code",
   "execution_count": null,
   "metadata": {},
   "outputs": [],
   "source": [
    "#we can see that this looks like a paragraph..for enhancement we will add white spaces"
   ]
  },
  {
   "cell_type": "code",
   "execution_count": 28,
   "metadata": {},
   "outputs": [
    {
     "name": "stdout",
     "output_type": "stream",
     "text": [
      "keep up the good work nikita \n",
      "submit the work on time \n",
      "\n",
      "keep up the good work kiran \n",
      "submit the work on time \n",
      "\n",
      "keep up the good work meenakshi \n",
      "submit the work on time \n",
      "\n",
      "keep up the good work anant \n",
      "submit the work on time \n",
      "\n",
      "keep up the good work aparna \n",
      "submit the work on time \n",
      "\n"
     ]
    }
   ],
   "source": [
    "for x in my_students:\n",
    "    print(f\"keep up the good work {x} \")\n",
    "    print(f\"submit the work on time \\n\")"
   ]
  },
  {
   "cell_type": "code",
   "execution_count": 30,
   "metadata": {},
   "outputs": [
    {
     "name": "stdout",
     "output_type": "stream",
     "text": [
      "hello..nikita\n",
      "looking forward for todays practice files \n",
      "\n",
      "hello..kiran\n",
      "looking forward for todays practice files \n",
      "\n",
      "hello..meenakshi\n",
      "looking forward for todays practice files \n",
      "\n",
      "hello..anant\n",
      "looking forward for todays practice files \n",
      "\n",
      "hello..aparna\n",
      "looking forward for todays practice files \n",
      "\n",
      "\tthank you all for showing interest in python\n"
     ]
    }
   ],
   "source": [
    "#improvising\n",
    "for x in my_students:\n",
    "    print(f\"hello..{x}\") #printing inside the loop\n",
    "    print(f\"looking forward for todays practice files \\n\") \n",
    "print('\\tthank you all for showing interest in python') #printing outside the loop"
   ]
  },
  {
   "cell_type": "code",
   "execution_count": null,
   "metadata": {},
   "outputs": [],
   "source": []
  },
  {
   "cell_type": "code",
   "execution_count": null,
   "metadata": {},
   "outputs": [],
   "source": []
  }
 ],
 "metadata": {
  "kernelspec": {
   "display_name": "Python 3",
   "language": "python",
   "name": "python3"
  },
  "language_info": {
   "codemirror_mode": {
    "name": "ipython",
    "version": 3
   },
   "file_extension": ".py",
   "mimetype": "text/x-python",
   "name": "python",
   "nbconvert_exporter": "python",
   "pygments_lexer": "ipython3",
   "version": "3.7.6"
  }
 },
 "nbformat": 4,
 "nbformat_minor": 4
}
