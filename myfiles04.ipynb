{
 "cells": [
  {
   "cell_type": "code",
   "execution_count": 1,
   "metadata": {},
   "outputs": [],
   "source": [
    "#Store and Reuse....Functions..!"
   ]
  },
  {
   "cell_type": "code",
   "execution_count": 2,
   "metadata": {},
   "outputs": [],
   "source": [
    "#functions is a reusable piece of code and we make a func in python with the keyword def\n",
    "#syntax is def funcname():\n",
    "             #statements"
   ]
  },
  {
   "cell_type": "code",
   "execution_count": 3,
   "metadata": {},
   "outputs": [],
   "source": [
    "#this was just to define the function. to call it de indent and just write the func name()"
   ]
  },
  {
   "cell_type": "code",
   "execution_count": 4,
   "metadata": {},
   "outputs": [
    {
     "name": "stdout",
     "output_type": "stream",
     "text": [
      "hey..!\n",
      "its fun \n",
      "yayy...it works\n",
      "hey..!\n",
      "its fun \n",
      "it was last..! All done\n"
     ]
    }
   ],
   "source": [
    "def thing():\n",
    "    print('hey..!')\n",
    "    print('its fun ')\n",
    "thing()\n",
    "print('yayy...it works')\n",
    "thing()\n",
    "print('it was last..! All done')"
   ]
  },
  {
   "cell_type": "code",
   "execution_count": 5,
   "metadata": {},
   "outputs": [],
   "source": [
    "#naming conventions of function names is same as that of variables "
   ]
  },
  {
   "cell_type": "code",
   "execution_count": 6,
   "metadata": {},
   "outputs": [],
   "source": [
    "#there are some inbuilt func in python like the max and min which simply find the max and min values of whatever is inside it"
   ]
  },
  {
   "cell_type": "code",
   "execution_count": 7,
   "metadata": {},
   "outputs": [
    {
     "name": "stdout",
     "output_type": "stream",
     "text": [
      "5\n"
     ]
    }
   ],
   "source": [
    "bid = max('12345')\n",
    "print(bid)"
   ]
  },
  {
   "cell_type": "code",
   "execution_count": 9,
   "metadata": {},
   "outputs": [
    {
     "name": "stdout",
     "output_type": "stream",
     "text": [
      "a\n"
     ]
    }
   ],
   "source": [
    "tiny = min(\"ritika\")\n",
    "print(tiny)"
   ]
  },
  {
   "cell_type": "code",
   "execution_count": 10,
   "metadata": {},
   "outputs": [],
   "source": [
    "#Argument is a value we pass into the function as its input when we call the function\n",
    "#we use arguments to make the function do different kinds of work when we call it different times"
   ]
  },
  {
   "cell_type": "code",
   "execution_count": 11,
   "metadata": {},
   "outputs": [],
   "source": [
    "#Parameter is a variable we use while defining func. it is like a handle which allows the code to access the arguments for diff calls."
   ]
  },
  {
   "cell_type": "code",
   "execution_count": 13,
   "metadata": {},
   "outputs": [
    {
     "name": "stdout",
     "output_type": "stream",
     "text": [
      "hello\n",
      "hola\n",
      "bonjour\n"
     ]
    }
   ],
   "source": [
    "def greet(lang):\n",
    "    if lang=='es':\n",
    "        print('hola')\n",
    "    elif lang =='fr':\n",
    "        print('bonjour')\n",
    "    else:\n",
    "        print('hello')\n",
    "greet('en')\n",
    "greet('es')\n",
    "greet('fr')\n",
    "        \n",
    "  "
   ]
  },
  {
   "cell_type": "code",
   "execution_count": 14,
   "metadata": {},
   "outputs": [],
   "source": [
    "#Return values"
   ]
  },
  {
   "cell_type": "code",
   "execution_count": 19,
   "metadata": {},
   "outputs": [
    {
     "name": "stdout",
     "output_type": "stream",
     "text": [
      "hey..! glenn\n",
      "hey..! sally\n"
     ]
    }
   ],
   "source": [
    "def greet():\n",
    "    return \"hey..!\"\n",
    "print(greet(), \"glenn\")\n",
    "print(greet(), \"sally\")"
   ]
  },
  {
   "cell_type": "code",
   "execution_count": null,
   "metadata": {},
   "outputs": [],
   "source": [
    "#return statement ends the func execution and sends back the result of the function\n",
    "#we can have more than on parameter and corresponding arguments in order of parameters."
   ]
  }
 ],
 "metadata": {
  "kernelspec": {
   "display_name": "Python 3",
   "language": "python",
   "name": "python3"
  },
  "language_info": {
   "codemirror_mode": {
    "name": "ipython",
    "version": 3
   },
   "file_extension": ".py",
   "mimetype": "text/x-python",
   "name": "python",
   "nbconvert_exporter": "python",
   "pygments_lexer": "ipython3",
   "version": "3.7.6"
  }
 },
 "nbformat": 4,
 "nbformat_minor": 4
}
